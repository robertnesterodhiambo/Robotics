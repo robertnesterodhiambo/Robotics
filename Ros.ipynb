{
 "cells": [
  {
   "cell_type": "code",
   "execution_count": 1,
   "metadata": {},
   "outputs": [
    {
     "name": "stdout",
     "output_type": "stream",
     "text": [
      "Defaulting to user installation because normal site-packages is not writeable\n",
      "Requirement already satisfied: rosdep in /usr/lib/python3/dist-packages (0.22.2)\n",
      "Requirement already satisfied: PyYAML>=3.1 in /usr/lib/python3/dist-packages (from rosdep) (5.4.1)\n",
      "Requirement already satisfied: setuptools in /usr/lib/python3/dist-packages (from rosdep) (59.6.0)\n",
      "Successfully installed rosdep\n",
      "Defaulting to user installation because normal site-packages is not writeable\n",
      "Requirement already satisfied: rospkg in /home/oem/.local/lib/python3.10/site-packages (1.5.0)\n",
      "Requirement already satisfied: catkin-pkg in /usr/lib/python3/dist-packages (from rospkg) (1.0.0)\n",
      "Requirement already satisfied: PyYAML in /usr/lib/python3/dist-packages (from rospkg) (5.4.1)\n",
      "Requirement already satisfied: distro>=1.4.0 in /usr/lib/python3/dist-packages (from rospkg) (1.7.0)\n",
      "Requirement already satisfied: docutils in /usr/lib/python3/dist-packages (from catkin-pkg->rospkg) (0.17.1)\n",
      "Requirement already satisfied: python-dateutil in /home/oem/.local/lib/python3.10/site-packages (from catkin-pkg->rospkg) (2.9.0.post0)\n",
      "Requirement already satisfied: pyparsing in /usr/lib/python3/dist-packages (from catkin-pkg->rospkg) (2.4.7)\n",
      "Requirement already satisfied: setuptools in /usr/lib/python3/dist-packages (from catkin-pkg->rospkg) (59.6.0)\n",
      "Requirement already satisfied: six>=1.5 in /usr/lib/python3/dist-packages (from python-dateutil->catkin-pkg->rospkg) (1.16.0)\n",
      "Successfully installed rospkg\n",
      "Defaulting to user installation because normal site-packages is not writeable\n",
      "Error installing rosmsg\n"
     ]
    },
    {
     "name": "stderr",
     "output_type": "stream",
     "text": [
      "\u001b[31mERROR: Could not find a version that satisfies the requirement rosmsg (from versions: none)\u001b[0m\u001b[31m\n",
      "\u001b[0m\u001b[31mERROR: No matching distribution found for rosmsg\u001b[0m\u001b[31m\n",
      "\u001b[0m"
     ]
    }
   ],
   "source": [
    "import subprocess\n",
    "\n",
    "def install_ros_python_package(package_name):\n",
    "    try:\n",
    "        # Run pip to install the package from PyPI\n",
    "        subprocess.check_call(['pip', 'install', package_name])\n",
    "        print(f\"Successfully installed {package_name}\")\n",
    "    except subprocess.CalledProcessError:\n",
    "        print(f\"Error installing {package_name}\")\n",
    "\n",
    "def main():\n",
    "    # List of ROS Python packages you want to install\n",
    "    ros_python_packages = [\n",
    "        'rosdep',   # ROS dependency manager\n",
    "        'rospkg',   # ROS package library\n",
    "        'rosmsg',   # ROS message generation library\n",
    "        # Add more ROS Python packages as needed\n",
    "    ]\n",
    "\n",
    "    # Install each ROS Python package\n",
    "    for package in ros_python_packages:\n",
    "        install_ros_python_package(package)\n",
    "\n",
    "if __name__ == \"__main__\":\n",
    "    main()\n"
   ]
  },
  {
   "cell_type": "code",
   "execution_count": null,
   "metadata": {},
   "outputs": [],
   "source": []
  }
 ],
 "metadata": {
  "kernelspec": {
   "display_name": "Python 3",
   "language": "python",
   "name": "python3"
  },
  "language_info": {
   "codemirror_mode": {
    "name": "ipython",
    "version": 3
   },
   "file_extension": ".py",
   "mimetype": "text/x-python",
   "name": "python",
   "nbconvert_exporter": "python",
   "pygments_lexer": "ipython3",
   "version": "3.10.12"
  }
 },
 "nbformat": 4,
 "nbformat_minor": 2
}
